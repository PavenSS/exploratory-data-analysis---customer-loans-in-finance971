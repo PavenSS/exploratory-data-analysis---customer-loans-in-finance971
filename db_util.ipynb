{
 "cells": [
  {
   "cell_type": "code",
   "execution_count": 17,
   "metadata": {},
   "outputs": [],
   "source": [
    "from sqlalchemy import create_engine\n",
    "import pandas as pd\n",
    "import yaml\n",
    "from urllib.parse import quote_plus"
   ]
  },
  {
   "cell_type": "code",
   "execution_count": 18,
   "metadata": {},
   "outputs": [],
   "source": [
    "def import_credentials(file_path):\n",
    "    with open(file_path, 'r') as file:\n",
    "        data = yaml.safe_load(file)\n",
    "    return data"
   ]
  },
  {
   "cell_type": "code",
   "execution_count": 21,
   "metadata": {},
   "outputs": [],
   "source": [
    "class RDSDatabaseConnector:\n",
    "    def __init__(self, data):\n",
    "        self.data = data\n",
    "        self.engine= None\n",
    "\n",
    "    def initialize_engine(self):\n",
    "        HOST = quote_plus(self.data['RDS_HOST'])\n",
    "        USER = quote_plus(self.data['RDS_USER'])\n",
    "        PASSWORD = self.data['RDS_PASSWORD']\n",
    "        DATABASE = self.data['RDS_DATABASE']\n",
    "        PORT = self.data['RDS_PORT']\n",
    "                \n",
    "        # Create the connection URL for SQLAlchemy\n",
    "        connection_url = f\"postgresql://{USER}:{PASSWORD}@{HOST}:{PORT}/{DATABASE}\"\n",
    "        \n",
    "        # Create SQLAlchemy engine\n",
    "        self.engine = create_engine(connection_url)\n",
    "        print(\"Engine initialized successfully.\")\n",
    "    \n",
    "    def extract_data(self, table_name=\"loan_payments\"):\n",
    "        if self.engine is None:\n",
    "            raise ValueError(\"Engine not initialized. Please call 'initialize_engine' first.\")\n",
    "        \n",
    "        # Query the table and load data into a Pandas DataFrame\n",
    "        query = f\"SELECT * FROM {table_name};\"\n",
    "        df = pd.read_sql(query, self.engine)\n",
    "        return df\n",
    "\n",
    "    def save_data_to_csv(self, data, file_name=\"loan_payments_data.csv\"):\n",
    "        data.to_csv(file_name, index=False)\n",
    "        print(f\"Data saved to {file_name}.\")"
   ]
  },
  {
   "cell_type": "code",
   "execution_count": 22,
   "metadata": {},
   "outputs": [
    {
     "name": "stdout",
     "output_type": "stream",
     "text": [
      "Engine initialized successfully.\n",
      "Data saved to loan_payments_data.csv.\n"
     ]
    }
   ],
   "source": [
    "data = import_credentials('C:/Users/paven/aicore/eda/project/exploratory-data-analysis---customer-loans-in-finance971/credentials.yaml')\n",
    "db_connector = RDSDatabaseConnector(data)\n",
    "db_connector.initialize_engine()\n",
    "data_extract = db_connector.extract_data()\n",
    "db_connector.save_data_to_csv(data_extract, 'loan_payments_data.csv')"
   ]
  },
  {
   "cell_type": "code",
   "execution_count": 23,
   "metadata": {},
   "outputs": [],
   "source": [
    "def load_data_from_csv(file_path):\n",
    "    try:\n",
    "        # Read the CSV file into a DataFrame\n",
    "        df = pd.read_csv(file_path)\n",
    "        print(f\"Data successfully loaded from {file_path}.\")\n",
    "        return df\n",
    "    except FileNotFoundError:\n",
    "        print(f\"Error: The file at {file_path} does not exist.\")\n",
    "        return None\n",
    "    except pd.errors.EmptyDataError:\n",
    "        print(f\"Error: The file at {file_path} is empty.\")\n",
    "        return None\n",
    "    except pd.errors.ParserError:\n",
    "        print(f\"Error: There was an issue parsing the file at {file_path}.\")\n",
    "        return None\n"
   ]
  },
  {
   "cell_type": "code",
   "execution_count": 27,
   "metadata": {},
   "outputs": [
    {
     "name": "stdout",
     "output_type": "stream",
     "text": [
      "Data successfully loaded from C:/Users/paven/aicore/eda/project/exploratory-data-analysis---customer-loans-in-finance971/loan_payments_data.csv.\n",
      "         id  member_id  loan_amount  funded_amount  funded_amount_inv  \\\n",
      "0  38676116   41461848         8000         8000.0             8000.0   \n",
      "1  38656203   41440010        13200        13200.0            13200.0   \n",
      "2  38656154   41439961        16000        16000.0            16000.0   \n",
      "3  38656128   41439934        15000        15000.0            15000.0   \n",
      "4  38656121   41439927        15000        15000.0            15000.0   \n",
      "\n",
      "        term  int_rate  instalment grade sub_grade  ... recoveries  \\\n",
      "0  36 months      7.49      248.82     A        A4  ...        0.0   \n",
      "1  36 months      6.99      407.52     A        A3  ...        0.0   \n",
      "2  36 months      7.49      497.63     A        A4  ...        0.0   \n",
      "3  36 months     14.31      514.93     C        C4  ...        0.0   \n",
      "4  36 months      6.03      456.54     A        A1  ...        0.0   \n",
      "\n",
      "  collection_recovery_fee  last_payment_date last_payment_amount  \\\n",
      "0                     0.0           Jan-2022              248.82   \n",
      "1                     0.0           Jan-2022              407.52   \n",
      "2                     0.0           Oct-2021            12850.16   \n",
      "3                     0.0           Jun-2021            13899.67   \n",
      "4                     0.0           Jan-2022              456.54   \n",
      "\n",
      "  next_payment_date last_credit_pull_date collections_12_mths_ex_med  \\\n",
      "0          Feb-2022              Jan-2022                        0.0   \n",
      "1          Feb-2022              Jan-2022                        0.0   \n",
      "2               NaN              Oct-2021                        0.0   \n",
      "3               NaN              Jun-2021                        0.0   \n",
      "4          Feb-2022              Jan-2022                        0.0   \n",
      "\n",
      "  mths_since_last_major_derog  policy_code  application_type  \n",
      "0                         5.0            1        INDIVIDUAL  \n",
      "1                         NaN            1        INDIVIDUAL  \n",
      "2                         NaN            1        INDIVIDUAL  \n",
      "3                         NaN            1        INDIVIDUAL  \n",
      "4                         NaN            1        INDIVIDUAL  \n",
      "\n",
      "[5 rows x 43 columns]\n"
     ]
    }
   ],
   "source": [
    "data = load_data_from_csv(\"C:/Users/paven/aicore/eda/project/exploratory-data-analysis---customer-loans-in-finance971/loan_payments_data.csv\")\n",
    "if data is not None:\n",
    "    print(data.head())"
   ]
  }
 ],
 "metadata": {
  "kernelspec": {
   "display_name": "base",
   "language": "python",
   "name": "python3"
  },
  "language_info": {
   "codemirror_mode": {
    "name": "ipython",
    "version": 3
   },
   "file_extension": ".py",
   "mimetype": "text/x-python",
   "name": "python",
   "nbconvert_exporter": "python",
   "pygments_lexer": "ipython3",
   "version": "3.12.7"
  }
 },
 "nbformat": 4,
 "nbformat_minor": 2
}
